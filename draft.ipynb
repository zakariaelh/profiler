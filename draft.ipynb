{
 "cells": [
  {
   "cell_type": "code",
   "execution_count": 1,
   "metadata": {},
   "outputs": [],
   "source": [
    "%load_ext autoreload \n",
    "%autoreload 2"
   ]
  },
  {
   "cell_type": "code",
   "execution_count": 3,
   "metadata": {},
   "outputs": [],
   "source": [
    "from main import *"
   ]
  },
  {
   "cell_type": "code",
   "execution_count": 46,
   "metadata": {},
   "outputs": [],
   "source": [
    "def run_command(command, cwd=None):\n",
    "    \"\"\"Utility function to run shell commands within a specific directory.\"\"\"\n",
    "    result = subprocess.run(command, stdout=subprocess.PIPE, stderr=subprocess.PIPE, shell=True, cwd=cwd)\n",
    "    if result.returncode != 0:\n",
    "        print(f\"Error: {result.stderr.decode('utf-8')}\")\n",
    "    else:\n",
    "        print(result.stdout.decode('utf-8'))\n",
    "\n",
    "def checkout_branch(repo_dir, branch_name):\n",
    "    \"\"\"Checkout to a specific branch.\"\"\"\n",
    "    run_command(f\"git checkout {branch_name}\", cwd=repo_dir)\n",
    "\n",
    "def checkout_commit(repo_dir, commit_hash):\n",
    "    \"\"\"Checkout to a specific commit.\"\"\"\n",
    "    run_command(f\"git checkout {commit_hash}\", cwd=repo_dir)\n",
    "\n",
    "def checkout(repo_dir, branch_name, commit_hash):\n",
    "    checkout_branch(repo_dir, branch_name)\n",
    "    checkout_commit(repo_dir, commit_hash)"
   ]
  },
  {
   "cell_type": "code",
   "execution_count": 16,
   "metadata": {},
   "outputs": [],
   "source": [
    "# Example usage:\n",
    "owner=\"zakariaelh\"\n",
    "repo = \"profiler\"\n",
    "pr_list = get_pull_requests(owner, repo)"
   ]
  },
  {
   "cell_type": "code",
   "execution_count": null,
   "metadata": {},
   "outputs": [],
   "source": []
  },
  {
   "cell_type": "code",
   "execution_count": 18,
   "metadata": {},
   "outputs": [
    {
     "name": "stdout",
     "output_type": "stream",
     "text": [
      "No local changes to save\n",
      "Executed: git stash\n",
      "Your branch is up to date with 'origin/main'.\n",
      "Executed: git checkout main\n"
     ]
    },
    {
     "name": "stderr",
     "output_type": "stream",
     "text": [
      "Switched to branch 'main'\n",
      "From https://github.com/zakariaelh/profiler\n",
      " * [new ref]         refs/pull/1/head -> profiler-ox1qau\n",
      "Switched to branch 'profiler-ox1qau'\n"
     ]
    },
    {
     "name": "stdout",
     "output_type": "stream",
     "text": [
      "Executed: git fetch origin pull/1/head:profiler-ox1qau\n",
      "Executed: git checkout profiler-ox1qau\n",
      "Successfully switched to branch for PR #1\n"
     ]
    },
    {
     "name": "stderr",
     "output_type": "stream",
     "text": [
      " 50%|█████     | 1/2 [00:07<00:07,  7.40s/it]"
     ]
    },
    {
     "name": "stdout",
     "output_type": "stream",
     "text": [
      "profile_computer/experimental/cookie_test.py has been updated\n"
     ]
    },
    {
     "name": "stderr",
     "output_type": "stream",
     "text": [
      "100%|██████████| 2/2 [00:14<00:00,  7.00s/it]"
     ]
    },
    {
     "name": "stdout",
     "output_type": "stream",
     "text": [
      "profile_computer/experimental/grundy_test.py has been updated\n",
      "[profiler-ox1qau 6876386] optimization by profiler\n",
      " 2 files changed, 4 insertions(+), 10 deletions(-)\n"
     ]
    },
    {
     "name": "stderr",
     "output_type": "stream",
     "text": [
      "\n",
      "remote: \n",
      "remote: Create a pull request for 'profiler-ox1qau' on GitHub by visiting:        \n",
      "remote:      https://github.com/zakariaelh/profiler/pull/new/profiler-ox1qau        \n",
      "remote: \n",
      "To https://github.com/zakariaelh/profiler.git\n",
      " * [new branch]      profiler-ox1qau -> profiler-ox1qau\n"
     ]
    },
    {
     "name": "stdout",
     "output_type": "stream",
     "text": [
      "Successfully published branch profiler-ox1qau\n",
      "Successfully created PR #4 for branch profiler-ox1qau in zakariaelh/profiler \n",
      " Visit the following URL: https://github.com/zakariaelh/profiler/pull/4\n"
     ]
    }
   ],
   "source": [
    "pr = random.choice(pr_list)\n",
    "main(owner, repo, 1)"
   ]
  },
  {
   "cell_type": "code",
   "execution_count": 13,
   "metadata": {},
   "outputs": [],
   "source": [
    "add_comment(owner, repo, pr.number, \"https://github.com/zakariaelh/profiler/pull/3\")"
   ]
  },
  {
   "cell_type": "code",
   "execution_count": 14,
   "metadata": {},
   "outputs": [
    {
     "data": {
      "text/plain": [
       "PullRequest(title=\"Tmp branch\", number=2)"
      ]
     },
     "execution_count": 14,
     "metadata": {},
     "output_type": "execute_result"
    }
   ],
   "source": [
    "pr"
   ]
  },
  {
   "cell_type": "code",
   "execution_count": null,
   "metadata": {},
   "outputs": [],
   "source": []
  }
 ],
 "metadata": {
  "kernelspec": {
   "display_name": "env",
   "language": "python",
   "name": "python3"
  },
  "language_info": {
   "codemirror_mode": {
    "name": "ipython",
    "version": 3
   },
   "file_extension": ".py",
   "mimetype": "text/x-python",
   "name": "python",
   "nbconvert_exporter": "python",
   "pygments_lexer": "ipython3",
   "version": "3.10.13"
  }
 },
 "nbformat": 4,
 "nbformat_minor": 2
}
